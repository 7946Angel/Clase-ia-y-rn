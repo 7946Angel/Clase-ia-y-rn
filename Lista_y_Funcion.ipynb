{
  "nbformat": 4,
  "nbformat_minor": 0,
  "metadata": {
    "colab": {
      "provenance": []
    },
    "kernelspec": {
      "name": "python3",
      "display_name": "Python 3"
    },
    "language_info": {
      "name": "python"
    }
  },
  "cells": [
    {
      "cell_type": "code",
      "source": [
        "# A2 EJERCICIOS EN PYTHON\n",
        "# Jose Angel Moreno Santiago, 2077999, L-M-V N1\n",
        "\n",
        "def si(N):\n",
        "  lista=[]\n",
        "  i=1\n",
        "  while i<=N:\n",
        "    print(\"Ingrese el \", i, \" elemento de la lista\")\n",
        "    elemento = input()\n",
        "    lista.append(elemento)\n",
        "    i+=1\n",
        "  print(\"la lista invertida es:\")\n",
        "  j=N\n",
        "  while j>=1:\n",
        "    print(lista[j-1])\n",
        "    j-=1\n",
        "si(int(input(\"Cuantos elementos desae ingresar en la lista? \")))"
      ],
      "metadata": {
        "colab": {
          "base_uri": "https://localhost:8080/"
        },
        "id": "m1Exo8a55zG6",
        "outputId": "bb78c685-7797-414d-9697-2df709b8c0c3"
      },
      "execution_count": 22,
      "outputs": [
        {
          "output_type": "stream",
          "name": "stdout",
          "text": [
            "Cuantos elementos desae ingresar en la lista? 3\n",
            "Ingrese el  1  elemento de la lista\n",
            "do\n",
            "Ingrese el  2  elemento de la lista\n",
            "re \n",
            "Ingrese el  3  elemento de la lista\n",
            "mi\n",
            "la lista invertida es:\n",
            "mi\n",
            "re \n",
            "do\n"
          ]
        }
      ]
    }
  ]
}