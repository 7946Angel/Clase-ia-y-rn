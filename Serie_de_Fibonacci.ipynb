{
  "nbformat": 4,
  "nbformat_minor": 0,
  "metadata": {
    "colab": {
      "provenance": []
    },
    "kernelspec": {
      "name": "python3",
      "display_name": "Python 3"
    },
    "language_info": {
      "name": "python"
    }
  },
  "cells": [
    {
      "cell_type": "code",
      "execution_count": 25,
      "metadata": {
        "colab": {
          "base_uri": "https://localhost:8080/"
        },
        "id": "1w8-5Q0nnryP",
        "outputId": "ad6564ec-ce08-4463-94fa-f46d862c30fa"
      },
      "outputs": [
        {
          "output_type": "stream",
          "name": "stdout",
          "text": [
            "Hasta que numero desea generar: 7\n",
            "1\n",
            "2\n",
            "3\n",
            "5\n",
            "8\n",
            "13\n",
            "21\n"
          ]
        }
      ],
      "source": [
        "# A2 EJERCICIOS EN PYTHON\n",
        "# Jose Angel Moreno Santiago, 2077999, L-M-V N1\n",
        "\n",
        "x=0\n",
        "y=1\n",
        "n=1\n",
        "V=int( input(\"Hasta que numero desea generar: \"))\n",
        "while n<=V:\n",
        "  z=x+y\n",
        "  print(z)\n",
        "  x=y\n",
        "  y=z\n",
        "  n+=1"
      ]
    }
  ]
}