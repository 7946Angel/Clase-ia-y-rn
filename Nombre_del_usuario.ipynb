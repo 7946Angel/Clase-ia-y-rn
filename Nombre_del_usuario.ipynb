{
  "nbformat": 4,
  "nbformat_minor": 0,
  "metadata": {
    "colab": {
      "provenance": []
    },
    "kernelspec": {
      "name": "python3",
      "display_name": "Python 3"
    },
    "language_info": {
      "name": "python"
    }
  },
  "cells": [
    {
      "cell_type": "code",
      "execution_count": 12,
      "metadata": {
        "colab": {
          "base_uri": "https://localhost:8080/"
        },
        "id": "RCoukGmCua9G",
        "outputId": "f710fcb6-b537-4889-b50e-4458fae394ca"
      },
      "outputs": [
        {
          "output_type": "stream",
          "name": "stdout",
          "text": [
            "Cual es su nombre? Jose\n",
            "Hola Jose\n"
          ]
        }
      ],
      "source": [
        "# A2 EJERCICIOS EN PYTHON\n",
        "# Jose Angel Moreno Santiago, 2077999, L-M-V N1\n",
        "\n",
        "Nombre= input(\"Cual es su nombre? \")\n",
        "if Nombre=='Pedro' or Nombre=='Juan' or Nombre=='Ana':\n",
        "    print('El nombre no es valido')\n",
        "\n",
        "else:\n",
        "      print('Hola', Nombre)\n",
        "  "
      ]
    }
  ]
}